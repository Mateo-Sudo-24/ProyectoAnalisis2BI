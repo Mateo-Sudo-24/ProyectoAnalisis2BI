{
 "cells": [
  {
   "cell_type": "code",
   "execution_count": null,
   "metadata": {},
   "outputs": [],
   "source": [
    "\n",
    "import pandas as pd\n",
    "import sqlite3\n",
    "\n",
    "# Ruta al archivo CSV\n",
    "csv_file = 'C:/Users/LENOVO/Desktop/Proyectofinal/La Liga (Primera & Segunda).csv'\n",
    "\n",
    "# Cargar el archivo CSV en un DataFrame de pandas\n",
    "data = pd.read_csv(csv_file)\n",
    "\n",
    "db_name = 'La_Liga.db'  # Nombre de la base de datos\n",
    "conn = sqlite3.connect(db_name)\n",
    "\n",
    "table_name = 'la_liga'  \n",
    "data.to_sql(table_name, conn, if_exists='replace', index=False)\n",
    "conn.close()\n",
    "\n",
    "print(f\"Los datos se han guardado en la base de datos {db_name} con la tabla {table_name}.\")\n"
   ]
  }
 ],
 "metadata": {
  "language_info": {
   "name": "python"
  }
 },
 "nbformat": 4,
 "nbformat_minor": 2
}
