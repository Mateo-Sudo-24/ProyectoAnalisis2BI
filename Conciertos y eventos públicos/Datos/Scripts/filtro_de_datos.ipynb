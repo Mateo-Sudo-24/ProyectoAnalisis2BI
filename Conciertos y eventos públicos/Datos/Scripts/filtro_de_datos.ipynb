{
 "cells": [
  {
   "cell_type": "code",
   "execution_count": null,
   "id": "6ab2f071-a596-4361-91a4-a49b8391fd15",
   "metadata": {},
   "outputs": [],
   "source": [
    "import pandas as pd\n",
    "\n",
    "# Cargar el archivo CSV con el delimitador correcto\n",
    "df = pd.read_csv(r'C:\\Users\\jhonc\\OneDrive\\Desktop\\proyecto_git_analisis\\views_movie.csv', sep=';', on_bad_lines='skip')\n",
    "\n",
    "# Convertir la columna 'timestamp' a datetime\n",
    "df['timestamp'] = pd.to_datetime(df['timestamp'], errors='coerce')\n",
    "\n",
    "# Filtrar filas con fechas desde el año 2000 hasta la fecha actual\n",
    "start_date = '1996-01-01'\n",
    "end_date = pd.to_datetime('today')\n",
    "\n",
    "df_filtered = df[(df['timestamp'] >= start_date) & (df['timestamp'] <= end_date)]\n",
    "\n",
    "# Eliminar duplicados\n",
    "df_filtered = df_filtered.drop_duplicates()\n",
    "\n",
    "# Guardar el DataFrame filtrado y reducido en un archivo CSV\n",
    "df_filtered.to_csv(r'C:\\Users\\jhonc\\OneDrive\\Desktop\\proyecto_git_analisis\\views_movie_96-2015.csv', index=False)\n",
    "\n",
    "# Imprimir un mensaje al finalizar\n",
    "print(f\"El archivo CSV se ha filtrado y guardado con las fechas desde {start_date} hasta la fecha actual.\")\n",
    "\n",
    "\n"
   ]
  },
  {
   "cell_type": "code",
   "execution_count": 17,
   "id": "20b5650c-3c65-4a46-80d2-2f63a3d5566f",
   "metadata": {},
   "outputs": [
    {
     "name": "stdout",
     "output_type": "stream",
     "text": [
      "Defaulting to user installation because normal site-packages is not writeable\n",
      "Collecting openpyxl\n",
      "  Downloading openpyxl-3.1.5-py2.py3-none-any.whl.metadata (2.5 kB)\n",
      "Collecting et-xmlfile (from openpyxl)\n",
      "  Downloading et_xmlfile-2.0.0-py3-none-any.whl.metadata (2.7 kB)\n",
      "Downloading openpyxl-3.1.5-py2.py3-none-any.whl (250 kB)\n",
      "Downloading et_xmlfile-2.0.0-py3-none-any.whl (18 kB)\n",
      "Installing collected packages: et-xmlfile, openpyxl\n",
      "Successfully installed et-xmlfile-2.0.0 openpyxl-3.1.5\n"
     ]
    },
    {
     "name": "stderr",
     "output_type": "stream",
     "text": [
      "\n",
      "[notice] A new release of pip is available: 24.3.1 -> 25.0\n",
      "[notice] To update, run: C:\\Users\\jhonc\\AppData\\Local\\Microsoft\\WindowsApps\\PythonSoftwareFoundation.Python.3.12_qbz5n2kfra8p0\\python.exe -m pip install --upgrade pip\n"
     ]
    }
   ],
   "source": [
    "\n",
    "!pip install openpyxl\n",
    "\n",
    "\n"
   ]
  },
  {
   "cell_type": "code",
   "execution_count": 21,
   "id": "04032277-9e1a-4817-a3ae-fbd4cb970a83",
   "metadata": {},
   "outputs": [
    {
     "name": "stdout",
     "output_type": "stream",
     "text": [
      "El archivo en la ruta especificada existe: C:\\Users\\jhonc\\Downloads\\eventos_hokey.csv\n",
      "Archivo cargado con éxito.\n",
      "Datos convertidos a JSON y guardados en C:\\Users\\jhonc\\OneDrive\\Desktop\\proyecto_git_analisis\\eventos_hokey.json.\n"
     ]
    }
   ],
   "source": [
    "import pandas as pd\n",
    "import os\n",
    "\n",
    "file_path = r'C:\\Users\\jhonc\\Downloads\\eventos_hokey.csv'\n",
    "\n",
    "# Verificar si el archivo existe antes de intentar cargarlo\n",
    "if os.path.exists(file_path):\n",
    "    print(f\"El archivo en la ruta especificada existe: {file_path}\")\n",
    "    \n",
    "    try:\n",
    "        # Cargar el archivo CSV\n",
    "        df = pd.read_csv(file_path, on_bad_lines='skip')\n",
    "        print(\"Archivo cargado con éxito.\")\n",
    "        \n",
    "        # Convertir el DataFrame a JSON\n",
    "        json_data = df.to_json(orient='records')\n",
    "\n",
    "        # Guardar el JSON en un archivo\n",
    "        json_output_path = r'C:\\Users\\jhonc\\OneDrive\\Desktop\\proyecto_git_analisis\\eventos_hokey.json'\n",
    "        with open(json_output_path, 'w') as json_file:\n",
    "            json_file.write(json_data)\n",
    "        \n",
    "        print(f\"Datos convertidos a JSON y guardados en {json_output_path}.\")\n",
    "    except Exception as e:\n",
    "        print(f\"Error al cargar el archivo CSV: {e}\")\n",
    "else:\n",
    "    print(f\"El archivo en la ruta especificada no existe: {file_path}\")\n"
   ]
  },
  {
   "cell_type": "code",
   "execution_count": null,
   "id": "cb175891-64af-4dd2-9815-610ea3062d22",
   "metadata": {},
   "outputs": [],
   "source": [
    "import pandas as pd\n",
    "\n",
    "# Cargar el archivo CSV, ignorando líneas con errores\n",
    "df = pd.read_csv(r'C:\\Users\\jhonc\\OneDrive\\Desktop\\proyecto_git_analisis\\Metallica_gigs.csv', on_bad_lines='skip')\n",
    "\n",
    "# Alternativa: Especificar el delimitador correcto\n",
    "# df = pd.read_csv(r'C:\\Users\\jhonc\\OneDrive\\Desktop\\views_movies.csv', sep=',')\n",
    "\n",
    "# Alternativa: Indicar manualmente las columnas (ajusta el número de columnas según sea necesario)\n",
    "# df = pd.read_csv(r'C:\\Users\\jhonc\\OneDrive\\Desktop\\views_movies.csv', header=None, names=['col1', 'col2', 'col3'])\n",
    "\n",
    "# Convertir el DataFrame a JSON\n",
    "json_data = df.to_json(orient='records')\n",
    "\n",
    "# Guardar el JSON en un archivo\n",
    "with open(r'C:\\Users\\jhonc\\OneDrive\\Desktop\\proyecto_git_analisis\\Metallica_gigs.json', 'w') as json_file:\n",
    "    json_file.write(json_data)"
   ]
  },
  {
   "cell_type": "code",
   "execution_count": 4,
   "id": "e2abff6e-56f6-47a0-a92e-e71f1806f40a",
   "metadata": {},
   "outputs": [],
   "source": [
    "import pandas as pd\n",
    "\n",
    "# Cargar el archivo CSV, ignorando líneas con errores\n",
    "df = pd.read_csv(r'C:\\Users\\jhonc\\OneDrive\\Desktop\\proyecto_git_analisis\\ya van agit\\views_movie_96-2015.csv', on_bad_lines='skip')\n",
    "\n",
    "# Alternativa: Especificar el delimitador correcto\n",
    "# df = pd.read_csv(r'C:\\Users\\jhonc\\OneDrive\\Desktop\\views_movies.csv', sep=',')\n",
    "\n",
    "# Alternativa: Indicar manualmente las columnas (ajusta el número de columnas según sea necesario)\n",
    "# df = pd.read_csv(r'C:\\Users\\jhonc\\OneDrive\\Desktop\\views_movies.csv', header=None, names=['col1', 'col2', 'col3'])\n",
    "\n",
    "# Convertir el DataFrame a JSON\n",
    "json_data = df.to_json(orient='records')\n",
    "\n",
    "# Guardar el JSON en un archivo\n",
    "with open(r'C:\\Users\\jhonc\\OneDrive\\Desktop\\proyecto_git_analisis\\ya van agit\\views_movie_96-2015.json', 'w') as json_file:\n",
    "    json_file.write(json_data)"
   ]
  },
  {
   "cell_type": "code",
   "execution_count": null,
   "id": "5f691d5b-b08f-40d4-b6b5-262247d9fd6b",
   "metadata": {},
   "outputs": [],
   "source": []
  }
 ],
 "metadata": {
  "kernelspec": {
   "display_name": "Python 3 (ipykernel)",
   "language": "python",
   "name": "python3"
  },
  "language_info": {
   "codemirror_mode": {
    "name": "ipython",
    "version": 3
   },
   "file_extension": ".py",
   "mimetype": "text/x-python",
   "name": "python",
   "nbconvert_exporter": "python",
   "pygments_lexer": "ipython3",
   "version": "3.12.8"
  }
 },
 "nbformat": 4,
 "nbformat_minor": 5
}
