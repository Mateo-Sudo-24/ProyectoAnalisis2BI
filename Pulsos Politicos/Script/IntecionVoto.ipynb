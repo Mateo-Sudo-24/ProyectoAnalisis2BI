{
 "cells": [
  {
   "cell_type": "code",
   "execution_count": 3,
   "metadata": {},
   "outputs": [],
   "source": [
    "from datetime import timedelta\n",
    "import traceback\n",
    "import json\n",
    "import pandas as pd\n",
    "from couchbase.cluster import Cluster\n",
    "from couchbase.auth import PasswordAuthenticator\n",
    "from couchbase.options import ClusterOptions\n",
    "from couchbase.exceptions import CouchbaseException\n",
    "from couchbase.cluster import QueryOptions"
   ]
  },
  {
   "cell_type": "code",
   "execution_count": 4,
   "metadata": {},
   "outputs": [],
   "source": [
    "# ======== 1. Configuración de Couchbase ==========\n",
    "ENDPOINT = \"couchbases://cb.pps-dendznwwlsxh.cloud.couchbase.com\"  # Cambiar si es necesario\n",
    "USERNAME = \"BDD_PULSOSPOLITICOS\"\n",
    "PASSWORD = \"Administrador32#\"  # Reemplazar con tu contraseña real\n",
    "BUCKET_NAME = \"BDD_PULSOSPOLITICOS\"\n",
    "SCOPE_NAME = \"OpinionPublicaPolitica\"\n",
    "COLLECTION_NAME = \"IntencionVoto2025\""
   ]
  },
  {
   "cell_type": "code",
   "execution_count": null,
   "metadata": {},
   "outputs": [],
   "source": [
    "# Autenticación\n",
    "auth = PasswordAuthenticator(USERNAME, PASSWORD)\n",
    "options = ClusterOptions(auth)\n",
    "options.apply_profile(\"wan_development\")\n",
    "\n",
    "try:\n",
    "    # Conectar al clúster\n",
    "    cluster = Cluster(ENDPOINT, options)\n",
    "    cluster.wait_until_ready(timedelta(seconds=10))\n",
    "    print(\"✅ Conectado a Couchbase\")\n",
    "\n",
    "    # Obtener el bucket, scope y colección\n",
    "    bucket = cluster.bucket(BUCKET_NAME)\n",
    "    collection = bucket.scope(SCOPE_NAME).collection(COLLECTION_NAME)\n",
    "\n",
    "except Exception as e:\n",
    "    print(\"❌ Error al conectar con Couchbase\")\n",
    "    traceback.print_exc()"
   ]
  },
  {
   "cell_type": "code",
   "execution_count": 3,
   "metadata": {},
   "outputs": [
    {
     "data": {
      "text/html": [
       "<div>\n",
       "<style scoped>\n",
       "    .dataframe tbody tr th:only-of-type {\n",
       "        vertical-align: middle;\n",
       "    }\n",
       "\n",
       "    .dataframe tbody tr th {\n",
       "        vertical-align: top;\n",
       "    }\n",
       "\n",
       "    .dataframe thead th {\n",
       "        text-align: right;\n",
       "    }\n",
       "</style>\n",
       "<table border=\"1\" class=\"dataframe\">\n",
       "  <thead>\n",
       "    <tr style=\"text-align: right;\">\n",
       "      <th></th>\n",
       "      <th>nombre</th>\n",
       "      <th>intencion_voto</th>\n",
       "    </tr>\n",
       "  </thead>\n",
       "  <tbody>\n",
       "    <tr>\n",
       "      <th>0</th>\n",
       "      <td>Michelle Padilla</td>\n",
       "      <td>Daniel Noboa (7, ADN)</td>\n",
       "    </tr>\n",
       "    <tr>\n",
       "      <th>1</th>\n",
       "      <td>Natalie Marsh</td>\n",
       "      <td>Daniel Noboa (7, ADN)</td>\n",
       "    </tr>\n",
       "    <tr>\n",
       "      <th>2</th>\n",
       "      <td>Eric Serrano</td>\n",
       "      <td>No lo sé</td>\n",
       "    </tr>\n",
       "    <tr>\n",
       "      <th>3</th>\n",
       "      <td>Kimberly Gibson</td>\n",
       "      <td>Blanco/Nulo</td>\n",
       "    </tr>\n",
       "    <tr>\n",
       "      <th>4</th>\n",
       "      <td>Kim Bauer</td>\n",
       "      <td>Daniel Noboa (7, ADN)</td>\n",
       "    </tr>\n",
       "  </tbody>\n",
       "</table>\n",
       "</div>"
      ],
      "text/plain": [
       "             nombre         intencion_voto\n",
       "0  Michelle Padilla  Daniel Noboa (7, ADN)\n",
       "1     Natalie Marsh  Daniel Noboa (7, ADN)\n",
       "2      Eric Serrano               No lo sé\n",
       "3   Kimberly Gibson            Blanco/Nulo\n",
       "4         Kim Bauer  Daniel Noboa (7, ADN)"
      ]
     },
     "execution_count": 3,
     "metadata": {},
     "output_type": "execute_result"
    }
   ],
   "source": [
    "# Ruta del archivo JSON generado anteriormente\n",
    "json_path = \"cedatos_intencion_voto_2025.json\"\n",
    "\n",
    "# Cargar los datos en un DataFrame de Pandas\n",
    "with open(json_path, \"r\") as file:\n",
    "    data = json.load(file)\n",
    "\n",
    "df = pd.DataFrame(data)\n",
    "\n",
    "# Mostrar las primeras filas para verificar la carga\n",
    "df.head()\n"
   ]
  },
  {
   "cell_type": "code",
   "execution_count": 4,
   "metadata": {},
   "outputs": [
    {
     "name": "stdout",
     "output_type": "stream",
     "text": [
      "Archivo CSV guardado en: cedatos_intencion_voto_2025.csv\n"
     ]
    }
   ],
   "source": [
    "# Ruta para guardar el CSV\n",
    "csv_path = \"cedatos_intencion_voto_2025.csv\"\n",
    "\n",
    "# Guardar el DataFrame en CSV\n",
    "df.to_csv(csv_path, index=False, encoding=\"utf-8\")\n",
    "\n",
    "print(f\"Archivo CSV guardado en: {csv_path}\")\n"
   ]
  },
  {
   "cell_type": "code",
   "execution_count": 7,
   "metadata": {},
   "outputs": [
    {
     "ename": "UnAmbiguousTimeoutException",
     "evalue": "UnAmbiguousTimeoutException(<ec=14, category=couchbase.common, message=unambiguous_timeout (14), C Source=C:\\Jenkins\\workspace\\python\\sdk\\python-scripted-build-pipeline\\py-client\\src\\connection.cxx:205>)",
     "output_type": "error",
     "traceback": [
      "\u001b[1;31m---------------------------------------------------------------------------\u001b[0m",
      "\u001b[1;31mUnAmbiguousTimeoutException\u001b[0m               Traceback (most recent call last)",
      "Cell \u001b[1;32mIn[7], line 6\u001b[0m\n\u001b[0;32m      3\u001b[0m options \u001b[38;5;241m=\u001b[39m ClusterOptions(auth)\n\u001b[0;32m      4\u001b[0m options\u001b[38;5;241m.\u001b[39mapply_profile(\u001b[38;5;124m\"\u001b[39m\u001b[38;5;124mwan_development\u001b[39m\u001b[38;5;124m\"\u001b[39m)\n\u001b[1;32m----> 6\u001b[0m cluster \u001b[38;5;241m=\u001b[39m \u001b[43mCluster\u001b[49m\u001b[43m(\u001b[49m\u001b[43mendpoint\u001b[49m\u001b[43m,\u001b[49m\u001b[43m \u001b[49m\u001b[43moptions\u001b[49m\u001b[43m)\u001b[49m\n\u001b[0;32m      7\u001b[0m cluster\u001b[38;5;241m.\u001b[39mwait_until_ready(timedelta(seconds\u001b[38;5;241m=\u001b[39m\u001b[38;5;241m5\u001b[39m))\n\u001b[0;32m      8\u001b[0m cb \u001b[38;5;241m=\u001b[39m cluster\u001b[38;5;241m.\u001b[39mbucket(bucket_name)\n",
      "File \u001b[1;32m~\\AppData\\Roaming\\Python\\Python312\\site-packages\\couchbase\\cluster.py:101\u001b[0m, in \u001b[0;36mCluster.__init__\u001b[1;34m(self, connstr, *options, **kwargs)\u001b[0m\n\u001b[0;32m     94\u001b[0m \u001b[38;5;28;01mdef\u001b[39;00m \u001b[38;5;21m__init__\u001b[39m(\u001b[38;5;28mself\u001b[39m,\n\u001b[0;32m     95\u001b[0m              connstr,  \u001b[38;5;66;03m# type: str\u001b[39;00m\n\u001b[0;32m     96\u001b[0m              \u001b[38;5;241m*\u001b[39moptions,  \u001b[38;5;66;03m# type: ClusterOptions\u001b[39;00m\n\u001b[0;32m     97\u001b[0m              \u001b[38;5;241m*\u001b[39m\u001b[38;5;241m*\u001b[39mkwargs,  \u001b[38;5;66;03m# type: Dict[str, Any]\u001b[39;00m\n\u001b[0;32m     98\u001b[0m              ) \u001b[38;5;241m-\u001b[39m\u001b[38;5;241m>\u001b[39m Cluster:\n\u001b[0;32m    100\u001b[0m     \u001b[38;5;28msuper\u001b[39m()\u001b[38;5;241m.\u001b[39m\u001b[38;5;21m__init__\u001b[39m(connstr, \u001b[38;5;241m*\u001b[39moptions, \u001b[38;5;241m*\u001b[39m\u001b[38;5;241m*\u001b[39mkwargs)\n\u001b[1;32m--> 101\u001b[0m     \u001b[38;5;28;43mself\u001b[39;49m\u001b[38;5;241;43m.\u001b[39;49m\u001b[43m_connect\u001b[49m\u001b[43m(\u001b[49m\u001b[43m)\u001b[49m\n",
      "File \u001b[1;32m~\\AppData\\Roaming\\Python\\Python312\\site-packages\\couchbase\\logic\\wrappers.py:98\u001b[0m, in \u001b[0;36mBlockingWrapper.block.<locals>.decorator.<locals>.wrapped_fn\u001b[1;34m(self, *args, **kwargs)\u001b[0m\n\u001b[0;32m     95\u001b[0m     \u001b[38;5;28;01mif\u001b[39;00m \u001b[38;5;28misinstance\u001b[39m(e, ServiceUnavailableException) \u001b[38;5;129;01mand\u001b[39;00m fn\u001b[38;5;241m.\u001b[39m\u001b[38;5;18m__name__\u001b[39m \u001b[38;5;241m==\u001b[39m \u001b[38;5;124m'\u001b[39m\u001b[38;5;124m_get_cluster_info\u001b[39m\u001b[38;5;124m'\u001b[39m:\n\u001b[0;32m     96\u001b[0m         e\u001b[38;5;241m.\u001b[39m_message \u001b[38;5;241m=\u001b[39m (\u001b[38;5;124m'\u001b[39m\u001b[38;5;124mIf using Couchbase Server < 6.6, \u001b[39m\u001b[38;5;124m'\u001b[39m\n\u001b[0;32m     97\u001b[0m                       \u001b[38;5;124m'\u001b[39m\u001b[38;5;124ma bucket needs to be opened prior to cluster level operations\u001b[39m\u001b[38;5;124m'\u001b[39m)\n\u001b[1;32m---> 98\u001b[0m     \u001b[38;5;28;01mraise\u001b[39;00m e\n\u001b[0;32m     99\u001b[0m \u001b[38;5;28;01mexcept\u001b[39;00m \u001b[38;5;167;01mException\u001b[39;00m \u001b[38;5;28;01mas\u001b[39;00m ex:\n\u001b[0;32m    100\u001b[0m     exc_cls \u001b[38;5;241m=\u001b[39m PYCBC_ERROR_MAP\u001b[38;5;241m.\u001b[39mget(ExceptionMap\u001b[38;5;241m.\u001b[39mInternalSDKException\u001b[38;5;241m.\u001b[39mvalue, CouchbaseException)\n",
      "File \u001b[1;32m~\\AppData\\Roaming\\Python\\Python312\\site-packages\\couchbase\\logic\\wrappers.py:82\u001b[0m, in \u001b[0;36mBlockingWrapper.block.<locals>.decorator.<locals>.wrapped_fn\u001b[1;34m(self, *args, **kwargs)\u001b[0m\n\u001b[0;32m     79\u001b[0m \u001b[38;5;129m@wraps\u001b[39m(fn)\n\u001b[0;32m     80\u001b[0m \u001b[38;5;28;01mdef\u001b[39;00m \u001b[38;5;21mwrapped_fn\u001b[39m(\u001b[38;5;28mself\u001b[39m, \u001b[38;5;241m*\u001b[39margs, \u001b[38;5;241m*\u001b[39m\u001b[38;5;241m*\u001b[39mkwargs):\n\u001b[0;32m     81\u001b[0m     \u001b[38;5;28;01mtry\u001b[39;00m:\n\u001b[1;32m---> 82\u001b[0m         ret \u001b[38;5;241m=\u001b[39m \u001b[43mfn\u001b[49m\u001b[43m(\u001b[49m\u001b[38;5;28;43mself\u001b[39;49m\u001b[43m,\u001b[49m\u001b[43m \u001b[49m\u001b[38;5;241;43m*\u001b[39;49m\u001b[43margs\u001b[49m\u001b[43m,\u001b[49m\u001b[43m \u001b[49m\u001b[38;5;241;43m*\u001b[39;49m\u001b[38;5;241;43m*\u001b[39;49m\u001b[43mkwargs\u001b[49m\u001b[43m)\u001b[49m\n\u001b[0;32m     83\u001b[0m         \u001b[38;5;28;01mif\u001b[39;00m \u001b[38;5;28misinstance\u001b[39m(ret, BaseCouchbaseException):\n\u001b[0;32m     84\u001b[0m             \u001b[38;5;28;01mraise\u001b[39;00m ErrorMapper\u001b[38;5;241m.\u001b[39mbuild_exception(ret)\n",
      "File \u001b[1;32m~\\AppData\\Roaming\\Python\\Python312\\site-packages\\couchbase\\cluster.py:107\u001b[0m, in \u001b[0;36mCluster._connect\u001b[1;34m(self, **kwargs)\u001b[0m\n\u001b[0;32m    105\u001b[0m ret \u001b[38;5;241m=\u001b[39m \u001b[38;5;28msuper\u001b[39m()\u001b[38;5;241m.\u001b[39m_connect_cluster(\u001b[38;5;241m*\u001b[39m\u001b[38;5;241m*\u001b[39mkwargs)\n\u001b[0;32m    106\u001b[0m \u001b[38;5;28;01mif\u001b[39;00m \u001b[38;5;28misinstance\u001b[39m(ret, BaseCouchbaseException):\n\u001b[1;32m--> 107\u001b[0m     \u001b[38;5;28;01mraise\u001b[39;00m ErrorMapper\u001b[38;5;241m.\u001b[39mbuild_exception(ret)\n\u001b[0;32m    108\u001b[0m \u001b[38;5;28mself\u001b[39m\u001b[38;5;241m.\u001b[39m_set_connection(ret)\n",
      "\u001b[1;31mUnAmbiguousTimeoutException\u001b[0m: UnAmbiguousTimeoutException(<ec=14, category=couchbase.common, message=unambiguous_timeout (14), C Source=C:\\Jenkins\\workspace\\python\\sdk\\python-scripted-build-pipeline\\py-client\\src\\connection.cxx:205>)"
     ]
    }
   ],
   "source": [
    "# Couchbase connection setup\n",
    "auth = PasswordAuthenticator(username, password)\n",
    "options = ClusterOptions(auth)\n",
    "options.apply_profile(\"wan_development\")\n",
    "\n",
    "cluster = Cluster(endpoint, options)\n",
    "cluster.wait_until_ready(timedelta(seconds=5))\n",
    "cb = cluster.bucket(bucket_name)\n",
    "cb_coll = cb.scope(scope_name).collection(collection_name)"
   ]
  },
  {
   "cell_type": "code",
   "execution_count": null,
   "metadata": {},
   "outputs": [],
   "source": [
    "try:\n",
    "    with open('cedatos_intencion_voto_2025.csv', 'r', encoding='utf-8') as f:\n",
    "        csv_content = f.read()\n",
    "    \n",
    "    cb_coll.insert('cedatos_intencion_voto_2025_csv', {'content': csv_content})\n",
    "    print(\"CSV content inserted into Couchbase.\")\n",
    "except CouchbaseException as e:\n",
    "    print(f\"Error inserting CSV content into Couchbase: {e}\")\n",
    "except Exception as e:\n",
    "    print(f\"General error: {e}\")"
   ]
  }
 ],
 "metadata": {
  "kernelspec": {
   "display_name": "Python 3",
   "language": "python",
   "name": "python3"
  },
  "language_info": {
   "codemirror_mode": {
    "name": "ipython",
    "version": 3
   },
   "file_extension": ".py",
   "mimetype": "text/x-python",
   "name": "python",
   "nbconvert_exporter": "python",
   "pygments_lexer": "ipython3",
   "version": "3.12.6"
  }
 },
 "nbformat": 4,
 "nbformat_minor": 2
}
