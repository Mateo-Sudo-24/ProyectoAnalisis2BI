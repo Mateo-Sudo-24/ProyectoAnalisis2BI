{
 "cells": [
  {
   "cell_type": "code",
   "execution_count": 1,
   "metadata": {},
   "outputs": [],
   "source": [
    "import pandas as pd\n",
    "import datetime\n",
    "import json\n",
    "from datetime import timedelta"
   ]
  },
  {
   "cell_type": "code",
   "execution_count": 2,
   "metadata": {},
   "outputs": [],
   "source": [
    "from couchbase.exceptions import CouchbaseException\n",
    "from couchbase.auth import PasswordAuthenticator\n",
    "from couchbase.cluster import Cluster\n",
    "from couchbase.options import ClusterOptions"
   ]
  },
  {
   "cell_type": "code",
   "execution_count": 4,
   "metadata": {},
   "outputs": [],
   "source": [
    "# Configuración de Couchbase\n",
    "endpoint = \"couchbases://cb.pps-dendznwwlsxh.cloud.couchbase.com\"\n",
    "username = \"BDD_PULSOSPOLITICOS\"\n",
    "password = \"Administrador32#\"  # Reemplazar con la contraseña real\n",
    "bucket_name = \"BDD_PULSOSPOLITICOS\"\n",
    "scope_name = \"OpinionPublicaPolitica\"\n",
    "collection_name = \"Legislativo2024\""
   ]
  },
  {
   "cell_type": "code",
   "execution_count": null,
   "metadata": {},
   "outputs": [],
   "source": [
    "# Couchbase connection setup\n",
    "auth = PasswordAuthenticator(username, password)\n",
    "options = ClusterOptions(auth)\n",
    "options.apply_profile(\"wan_development\")\n",
    "\n",
    "cluster = Cluster(endpoint, options)\n",
    "cluster.wait_until_ready(timedelta(seconds=5))\n",
    "cb = cluster.bucket(bucket_name)\n",
    "cb_coll = cb.scope(scope_name).collection(collection_name)"
   ]
  },
  {
   "cell_type": "code",
   "execution_count": null,
   "metadata": {},
   "outputs": [],
   "source": [
    "# Subir el archivo CSV a Couchbase \n",
    "try:\n",
    "    with open('cedatos_intencion_votos_2025.csv', 'r', encoding='utf-8') as f:\n",
    "        csv_content = f.read()\n",
    "    \n",
    "    cb_coll.insert('cedatos_intencion_votos_2025_csv', {'content': csv_content})\n",
    "    print(\"CSV content inserted into Couchbase.\")\n",
    "except CouchbaseException as e:\n",
    "    print(f\"Error inserting CSV content into Couchbase: {e}\")\n",
    "except Exception as e:\n",
    "    print(f\"General error: {e}\")"
   ]
  }
 ],
 "metadata": {
  "kernelspec": {
   "display_name": "Python 3",
   "language": "python",
   "name": "python3"
  },
  "language_info": {
   "codemirror_mode": {
    "name": "ipython",
    "version": 3
   },
   "file_extension": ".py",
   "mimetype": "text/x-python",
   "name": "python",
   "nbconvert_exporter": "python",
   "pygments_lexer": "ipython3",
   "version": "3.12.6"
  }
 },
 "nbformat": 4,
 "nbformat_minor": 2
}
