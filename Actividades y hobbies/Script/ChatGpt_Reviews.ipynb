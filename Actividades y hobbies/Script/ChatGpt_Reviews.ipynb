{
 "cells": [
  {
   "cell_type": "code",
   "execution_count": 4,
   "metadata": {},
   "outputs": [
    {
     "data": {
      "text/html": [
       "<div>\n",
       "<style scoped>\n",
       "    .dataframe tbody tr th:only-of-type {\n",
       "        vertical-align: middle;\n",
       "    }\n",
       "\n",
       "    .dataframe tbody tr th {\n",
       "        vertical-align: top;\n",
       "    }\n",
       "\n",
       "    .dataframe thead th {\n",
       "        text-align: right;\n",
       "    }\n",
       "</style>\n",
       "<table border=\"1\" class=\"dataframe\">\n",
       "  <thead>\n",
       "    <tr style=\"text-align: right;\">\n",
       "      <th></th>\n",
       "      <th>Review Id</th>\n",
       "      <th>Review</th>\n",
       "      <th>Ratings</th>\n",
       "      <th>Review Date</th>\n",
       "    </tr>\n",
       "  </thead>\n",
       "  <tbody>\n",
       "    <tr>\n",
       "      <th>0</th>\n",
       "      <td>6fb93778-651a-4ad1-b5ed-67dd0bd35aac</td>\n",
       "      <td>good</td>\n",
       "      <td>5</td>\n",
       "      <td>8/23/2024 19:30</td>\n",
       "    </tr>\n",
       "    <tr>\n",
       "      <th>1</th>\n",
       "      <td>81caeefd-3a28-4601-a898-72897ac906f5</td>\n",
       "      <td>good</td>\n",
       "      <td>5</td>\n",
       "      <td>8/23/2024 19:28</td>\n",
       "    </tr>\n",
       "    <tr>\n",
       "      <th>2</th>\n",
       "      <td>452af49e-1d8b-4b68-b1ac-a94c64cb1dd5</td>\n",
       "      <td>nice app</td>\n",
       "      <td>5</td>\n",
       "      <td>8/23/2024 19:22</td>\n",
       "    </tr>\n",
       "    <tr>\n",
       "      <th>3</th>\n",
       "      <td>372a4096-ee6a-4b94-b046-cef0b646c965</td>\n",
       "      <td>nice, ig</td>\n",
       "      <td>5</td>\n",
       "      <td>8/23/2024 19:20</td>\n",
       "    </tr>\n",
       "    <tr>\n",
       "      <th>4</th>\n",
       "      <td>b0d66a4b-9bde-4b7c-8b11-66ed6ccdd7da</td>\n",
       "      <td>this is a great app, the bot is so accurate to...</td>\n",
       "      <td>5</td>\n",
       "      <td>8/23/2024 19:20</td>\n",
       "    </tr>\n",
       "  </tbody>\n",
       "</table>\n",
       "</div>"
      ],
      "text/plain": [
       "                              Review Id  \\\n",
       "0  6fb93778-651a-4ad1-b5ed-67dd0bd35aac   \n",
       "1  81caeefd-3a28-4601-a898-72897ac906f5   \n",
       "2  452af49e-1d8b-4b68-b1ac-a94c64cb1dd5   \n",
       "3  372a4096-ee6a-4b94-b046-cef0b646c965   \n",
       "4  b0d66a4b-9bde-4b7c-8b11-66ed6ccdd7da   \n",
       "\n",
       "                                              Review  Ratings      Review Date  \n",
       "0                                               good        5  8/23/2024 19:30  \n",
       "1                                               good        5  8/23/2024 19:28  \n",
       "2                                           nice app        5  8/23/2024 19:22  \n",
       "3                                           nice, ig        5  8/23/2024 19:20  \n",
       "4  this is a great app, the bot is so accurate to...        5  8/23/2024 19:20  "
      ]
     },
     "execution_count": 4,
     "metadata": {},
     "output_type": "execute_result"
    }
   ],
   "source": [
    "import pandas as pd\n",
    "\n",
    "# Load the dataset\n",
    "df = pd.read_csv('../Datos/ChatGPT_Reviews.csv')\n",
    "\n",
    "# Display the first few rows of the dataframe\n",
    "df.head()"
   ]
  },
  {
   "cell_type": "code",
   "execution_count": 2,
   "metadata": {},
   "outputs": [
    {
     "name": "stdout",
     "output_type": "stream",
     "text": [
      "Review Id      0\n",
      "Review         6\n",
      "Ratings        0\n",
      "Review Date    0\n",
      "dtype: int64\n",
      "Review Id      0\n",
      "Review         0\n",
      "Ratings        0\n",
      "Review Date    0\n",
      "dtype: int64\n"
     ]
    }
   ],
   "source": [
    "# Verificar datos nulos\n",
    "null_data = df.isnull().sum()\n",
    "print(null_data)\n",
    "\n",
    "# Verificar datos vacíos\n",
    "empty_data = (df == '').sum()\n",
    "print(empty_data)"
   ]
  },
  {
   "cell_type": "code",
   "execution_count": 4,
   "metadata": {},
   "outputs": [
    {
     "name": "stdout",
     "output_type": "stream",
     "text": [
      "Review Id      0\n",
      "Review         0\n",
      "Ratings        0\n",
      "Review Date    0\n",
      "dtype: int64\n"
     ]
    }
   ],
   "source": [
    "df = df.dropna()\n",
    "print(df.isnull().sum())"
   ]
  },
  {
   "cell_type": "code",
   "execution_count": 5,
   "metadata": {},
   "outputs": [],
   "source": [
    "# Guardar el dataframe en un archivo JSON\n",
    "df.to_json('./Archivos JSON/ChatGPT_Reviews.json', orient='records', lines=True)"
   ]
  },
  {
   "cell_type": "code",
   "execution_count": 2,
   "metadata": {},
   "outputs": [],
   "source": [
    "import nltk\n",
    "from nltk.tokenize import word_tokenize\n",
    "from nltk.sentiment.vader import SentimentIntensityAnalyzer\n"
   ]
  },
  {
   "cell_type": "code",
   "execution_count": 3,
   "metadata": {},
   "outputs": [
    {
     "name": "stderr",
     "output_type": "stream",
     "text": [
      "[nltk_data] Downloading package punkt to\n",
      "[nltk_data]     C:\\Users\\USUARIO\\AppData\\Roaming\\nltk_data...\n",
      "[nltk_data]   Package punkt is already up-to-date!\n",
      "[nltk_data] Downloading package vader_lexicon to\n",
      "[nltk_data]     C:\\Users\\USUARIO\\AppData\\Roaming\\nltk_data...\n",
      "[nltk_data]   Package vader_lexicon is already up-to-date!\n"
     ]
    },
    {
     "data": {
      "text/plain": [
       "True"
      ]
     },
     "execution_count": 3,
     "metadata": {},
     "output_type": "execute_result"
    }
   ],
   "source": [
    "# Descargar los datos necesarios para el tokenizador\n",
    "nltk.download('punkt')\n",
    "nltk.download('vader_lexicon')"
   ]
  },
  {
   "cell_type": "code",
   "execution_count": 6,
   "metadata": {},
   "outputs": [
    {
     "name": "stdout",
     "output_type": "stream",
     "text": [
      "                                              Review  \\\n",
      "0                                               good   \n",
      "1                                               good   \n",
      "2                                           nice app   \n",
      "3                                           nice, ig   \n",
      "4  this is a great app, the bot is so accurate to...   \n",
      "\n",
      "                                           Sentiment Sentiment_Label  \n",
      "0  {'neg': 0.0, 'neu': 0.0, 'pos': 1.0, 'compound...        positivo  \n",
      "1  {'neg': 0.0, 'neu': 0.0, 'pos': 1.0, 'compound...        positivo  \n",
      "2  {'neg': 0.0, 'neu': 0.263, 'pos': 0.737, 'comp...        positivo  \n",
      "3  {'neg': 0.0, 'neu': 0.263, 'pos': 0.737, 'comp...        positivo  \n",
      "4  {'neg': 0.047, 'neu': 0.731, 'pos': 0.222, 'co...        positivo  \n",
      "Promedio de los puntajes de sentimiento: 0.4166921164862983\n"
     ]
    }
   ],
   "source": [
    "# Crear una instancia del analizador de sentimientos\n",
    "sia = SentimentIntensityAnalyzer()\n",
    "\n",
    "# Rellenar los valores nulos en la columna 'Review' con una cadena vacía\n",
    "df['Review'] = df['Review'].fillna('')\n",
    "\n",
    "# Aplicar el análisis de sentimientos a cada texto\n",
    "df['Sentiment'] = df['Review'].apply(lambda x: sia.polarity_scores(x))\n",
    "\n",
    "# Clasificar el sentimiento como \"positivo\" o \"negativo\"\n",
    "df['Sentiment_Label'] = df['Sentiment'].apply(lambda x: 'positivo' if x['compound'] >= 0 else 'negativo')\n",
    "\n",
    "# Calcular el promedio de los puntajes de sentimiento\n",
    "average_sentiment = df['Sentiment'].apply(lambda x: x['compound']).mean()\n",
    "\n",
    "# Mostrar las primeras filas del dataframe con los resultados del análisis de sentimientos\n",
    "print(df[['Review', 'Sentiment', 'Sentiment_Label']].head())\n",
    "\n",
    "# Mostrar el promedio de los puntajes de sentimiento\n",
    "print(f\"Promedio de los puntajes de sentimiento: {average_sentiment}\")"
   ]
  },
  {
   "cell_type": "code",
   "execution_count": 8,
   "metadata": {},
   "outputs": [],
   "source": [
    "df.to_json('./Archivos JSON/ChatGPT_Reviews.json', orient='records', lines=True)"
   ]
  }
 ],
 "metadata": {
  "kernelspec": {
   "display_name": "Python 3",
   "language": "python",
   "name": "python3"
  },
  "language_info": {
   "codemirror_mode": {
    "name": "ipython",
    "version": 3
   },
   "file_extension": ".py",
   "mimetype": "text/x-python",
   "name": "python",
   "nbconvert_exporter": "python",
   "pygments_lexer": "ipython3",
   "version": "3.12.3"
  }
 },
 "nbformat": 4,
 "nbformat_minor": 2
}
